{
  "nbformat": 4,
  "nbformat_minor": 0,
  "metadata": {
    "colab": {
      "name": "Тест в команду УИИ на МСЕ финальная",
      "provenance": [],
      "collapsed_sections": [],
      "toc_visible": true,
      "machine_shape": "hm"
    },
    "kernelspec": {
      "name": "python3",
      "display_name": "Python 3"
    },
    "language_info": {
      "name": "python"
    },
    "accelerator": "GPU"
  },
  "cells": [
    {
      "cell_type": "code",
      "metadata": {
        "colab": {
          "base_uri": "https://localhost:8080/"
        },
        "id": "8ZK2aE85Yv_b",
        "outputId": "f5e4183e-3c92-4463-81a7-089953bb574d"
      },
      "source": [
        "pip install opencv-python"
      ],
      "execution_count": null,
      "outputs": [
        {
          "output_type": "stream",
          "text": [
            "Requirement already satisfied: opencv-python in /usr/local/lib/python3.7/dist-packages (4.1.2.30)\n",
            "Requirement already satisfied: numpy>=1.14.5 in /usr/local/lib/python3.7/dist-packages (from opencv-python) (1.19.5)\n"
          ],
          "name": "stdout"
        }
      ]
    },
    {
      "cell_type": "code",
      "metadata": {
        "id": "ECyKhDl2tzqv"
      },
      "source": [
        "import numpy as np\n",
        "import os\n",
        "from PIL import Image, ImageDraw, ImageFont # Модули работы с изображениями\n",
        "import time\n",
        "from IPython.display import clear_output"
      ],
      "execution_count": null,
      "outputs": []
    },
    {
      "cell_type": "markdown",
      "metadata": {
        "id": "-EKm9rTcLXf5"
      },
      "source": [
        "# Загрузка массива контрольных лиц с HTML"
      ]
    },
    {
      "cell_type": "code",
      "metadata": {
        "colab": {
          "base_uri": "https://localhost:8080/",
          "height": 102
        },
        "id": "naq5KUT_Lo37",
        "outputId": "9dfeace8-1143-40b0-f428-6c9bf257a8c1"
      },
      "source": [
        "import gdown\n",
        "file_id = '1n-HZ_8jsYpBH8BJGpDSeLIEKRc3vAhSQ'\n",
        "gdown.download('https://drive.google.com/uc?id=' + file_id, 'control_faces.h5', quiet=False)"
      ],
      "execution_count": null,
      "outputs": [
        {
          "output_type": "stream",
          "text": [
            "Downloading...\n",
            "From: https://drive.google.com/uc?id=1n-HZ_8jsYpBH8BJGpDSeLIEKRc3vAhSQ\n",
            "To: /content/control_faces.h5\n",
            "730MB [00:04, 157MB/s]\n"
          ],
          "name": "stderr"
        },
        {
          "output_type": "execute_result",
          "data": {
            "application/vnd.google.colaboratory.intrinsic+json": {
              "type": "string"
            },
            "text/plain": [
              "'control_faces.h5'"
            ]
          },
          "metadata": {
            "tags": []
          },
          "execution_count": 3
        }
      ]
    },
    {
      "cell_type": "code",
      "metadata": {
        "colab": {
          "base_uri": "https://localhost:8080/"
        },
        "id": "HXPTRUS1NWMZ",
        "outputId": "a22f5859-0e82-426d-b6c1-8949c1731f45"
      },
      "source": [
        "control_faces = np.load('/content/control_faces.h5')\n",
        "control_faces.shape"
      ],
      "execution_count": null,
      "outputs": [
        {
          "output_type": "execute_result",
          "data": {
            "text/plain": [
              "(3714, 128, 128, 3)"
            ]
          },
          "metadata": {
            "tags": []
          },
          "execution_count": 4
        }
      ]
    },
    {
      "cell_type": "markdown",
      "metadata": {
        "id": "OyHfECBKfqPo"
      },
      "source": [
        "# MSE"
      ]
    },
    {
      "cell_type": "code",
      "metadata": {
        "id": "IDwGL6U82dsM"
      },
      "source": [
        "# создадим функцию среднеквадратичной ошибки\n",
        "def getMSEmasive(x1, x2): \n",
        "  return np.square(np.subtract(x1, x2)) # и возвращаем сумму квадратов разницы, делённую на длину разницы"
      ],
      "execution_count": null,
      "outputs": []
    },
    {
      "cell_type": "markdown",
      "metadata": {
        "id": "CrHgtM2n1ND0"
      },
      "source": [
        "# Загрузка видео с HTML"
      ]
    },
    {
      "cell_type": "code",
      "metadata": {
        "colab": {
          "base_uri": "https://localhost:8080/",
          "height": 102
        },
        "id": "Un1oIh-p0lBh",
        "outputId": "725f2a03-2cf1-4fc7-f62c-9556597922a2"
      },
      "source": [
        "file_id = '1ETKBfNoXO8Kafr8Kn1tbzozb94ygRI41'\n",
        "gdown.download('https://drive.google.com/uc?id=' + file_id, 'test_video.mp4', quiet=False)\n"
      ],
      "execution_count": null,
      "outputs": [
        {
          "output_type": "stream",
          "text": [
            "Downloading...\n",
            "From: https://drive.google.com/uc?id=1ETKBfNoXO8Kafr8Kn1tbzozb94ygRI41\n",
            "To: /content/test_video.mp4\n",
            "204MB [00:01, 127MB/s]\n"
          ],
          "name": "stderr"
        },
        {
          "output_type": "execute_result",
          "data": {
            "application/vnd.google.colaboratory.intrinsic+json": {
              "type": "string"
            },
            "text/plain": [
              "'test_video.mp4'"
            ]
          },
          "metadata": {
            "tags": []
          },
          "execution_count": 5
        }
      ]
    },
    {
      "cell_type": "markdown",
      "metadata": {
        "id": "KcS9uyumYlNZ"
      },
      "source": [
        "# Поиск, обрезание и склейка видео"
      ]
    },
    {
      "cell_type": "code",
      "metadata": {
        "id": "tZWaLzf5rSj6"
      },
      "source": [
        "import cv2 as cv2\n",
        "\n",
        "path = os.path.join(cv2.data.haarcascades, 'haarcascade_frontalface_default.xml')\n",
        "face_cascade = cv2.CascadeClassifier( path )"
      ],
      "execution_count": null,
      "outputs": []
    },
    {
      "cell_type": "markdown",
      "metadata": {
        "id": "tjGPfb3MFOjY"
      },
      "source": [
        "# Фунция дететирования кадра"
      ]
    },
    {
      "cell_type": "code",
      "metadata": {
        "id": "3FHO8Q8KFUtT"
      },
      "source": [
        "def detect_cadr(check_cadr,bias):\n",
        "      result = 0\n",
        "      gray = cv2.cvtColor(check_cadr, cv2.COLOR_BGR2GRAY)\n",
        "      faces = face_cascade.detectMultiScale(\n",
        "          gray,\n",
        "          scaleFactor= 1.1,\n",
        "          minNeighbors= 5,\n",
        "          minSize=(10, 10)\n",
        "      )\n",
        "\n",
        "      # Рисуем квадраты вокруг лиц\n",
        "      frame_faces = []\n",
        "      for i,(x, y, w, h) in enumerate(faces):\n",
        "          #print(i)\n",
        "          cv2.rectangle(faces, (x, y), (x+w, y+h), (255, 255, 0), 2)\n",
        "\n",
        "          face_np = image_base[y:y+h,x:x+w,:]\n",
        "\n",
        "          face_img = Image.fromarray(face_np) #cv2_imshow(face_np) # cv2.imwrite(face_np) #path_save)#\n",
        "          face_img = face_img.resize((128, 128)) \n",
        "          face_np = np.array(face_img)/255.\n",
        "          frame_faces.append(face_np)\n",
        "\n",
        "      frame_faces = np.array(frame_faces)\n",
        "      #print('frame_faces.shape[0]', frame_faces.shape[0])\n",
        "      if frame_faces.shape[0] != 0:\n",
        "          #print(frame_faces.shape[0])\n",
        "          #pred_face = train_model.predict(frame_faces)\n",
        "          #MSEs = getMSEmasive(frame_faces, pred_face)\n",
        "          #errors = [MSEs[i].mean() for i in range(frame_faces.shape[0])] # посчитаем ошибку для всех изображений\n",
        "          idx = np.random.choice(range(1200), frame_faces.shape[0])\n",
        "          errors = []\n",
        "          for i in range(frame_faces.shape[0]):\n",
        "             err = getMSEmasive(frame_faces[i], control_faces[idx])\n",
        "             errors.append(err)\n",
        "          errors = np.array(errors)\n",
        "          errors = [errors.mean() for i in range(frame_faces.shape[0])] # посчитаем ошибку для всех изображений\n",
        "          #print(\"Средняя ошибка на aliens_data:\", np.round(np.sum(errors) / len(errors), 4)) # посчитаем для последних 20 среднюю ошибку\n",
        "          print(\"Минимальная ошибка на control_faces:\", np.round(np.min(errors),4)) #найдем минимальную ошибку\n",
        "          if np.min(errors) < bias:           \n",
        "            print('MSE ', np.round(np.min(errors),4))\n",
        "            result = 1\n",
        "          else:\n",
        "            pass\n",
        "      else:\n",
        "        pass\n",
        "      \n",
        "      return result"
      ],
      "execution_count": null,
      "outputs": []
    },
    {
      "cell_type": "code",
      "metadata": {
        "colab": {
          "base_uri": "https://localhost:8080/"
        },
        "id": "zOztG_NIvzvf",
        "outputId": "02b2d949-414a-41ab-ee22-1a9d6d2ba8f8"
      },
      "source": [
        "path_test_video = '/content/test_video.mp4'\n",
        "\n",
        "cap = cv2.VideoCapture(path_test_video)\n",
        "fps_of_video = int(cv2.VideoCapture(path_test_video).get(cv2.CAP_PROP_FPS))\n",
        "\n",
        "step = 3 # \n",
        "step_frame = fps_of_video * step # сколько берем кадров в проверку\n",
        "bias = 0.0303\n",
        "\n",
        "start = time.time()\n",
        "#num_frame = []\n",
        "np_cutfilm = []\n",
        "cadr = 0\n",
        "while(True):\n",
        "    # Capture frame-by-frame\n",
        "    ret, frame = cap.read()\n",
        "    image_base = frame\n",
        "    \n",
        "    if not ret:\n",
        "      break\n",
        "\n",
        "    if cadr % step_frame == 0:\n",
        "      clear_output()\n",
        "      print('cadr', cadr)\n",
        "           \n",
        "      #детектирование\n",
        "      result = detect_cadr(frame, bias)\n",
        "      add_cadr = step_frame\n",
        "    #собираем кадры детектированный и другие за ним до fps_of_video\n",
        "    print('result ', result)\n",
        "    if result != 0:       \n",
        "        print('add_cadr ', add_cadr)\n",
        "        if add_cadr > 0:           \n",
        "            np_cutfilm.append(image_base)\n",
        "            print('кадр добавлен')\n",
        "        add_cadr -= 1    \n",
        "        #num_frame.append(cadr)\n",
        "\n",
        "    cadr+=1\n",
        "    \n",
        "          \n",
        "    cv2.waitKey(1) & 0xFF\n",
        "\n",
        "clear_output()\n",
        "np_cutfilm = np.array(np_cutfilm)\n",
        "#num_frame = np.array(num_frame)\n",
        "# When everything done, release the capture\n",
        "cap.release()\n",
        "cv2.destroyAllWindows()\n",
        "print('оставлено кадров', np_cutfilm.shape)\n",
        "\n",
        "\n",
        "time_person = np_cutfilm.shape[0]/fps_of_video\n",
        "time_person = round(time_person/60,1)\n",
        "print('время Кевина на видео: ',time_person, ' минут')\n",
        "\n",
        "finish = time.time() - start\n",
        "print('время обработки', finish)\n",
        "\n",
        "height, width = np_cutfilm.shape[1:3]\n",
        "\n",
        "# Определяем кодек и создаем объект VideoWriter\n",
        "fourcc = cv2.VideoWriter_fourcc('m', 'p', '4', 'v')\n",
        "out = cv2.VideoWriter()\n",
        "output_file_name = '/content/drive/MyDrive/Colab Bases/Команда УИИ/newconectframe_mse_0.0303.mp4' \n",
        "out.open(output_file_name, fourcc, fps_of_video , (width, height), True)\n",
        "\n",
        "for i in range(np_cutfilm.shape[0]):\n",
        "    out.write((np_cutfilm[i]))\n",
        "\n",
        "\n",
        "# Высвобождаем ресурсы\n",
        "cap.release()\n",
        "out.release()"
      ],
      "execution_count": null,
      "outputs": [
        {
          "output_type": "stream",
          "text": [
            "оставлено кадров (2760, 408, 720, 3)\n",
            "время Кевина на видео:  2.0  минут\n",
            "время обработки 283.78199648857117\n"
          ],
          "name": "stdout"
        }
      ]
    }
  ]
}