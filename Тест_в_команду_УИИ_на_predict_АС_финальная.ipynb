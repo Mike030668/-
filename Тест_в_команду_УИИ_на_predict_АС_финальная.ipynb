{
  "nbformat": 4,
  "nbformat_minor": 0,
  "metadata": {
    "colab": {
      "name": "Тест в команду УИИ на predict_АС финальная",
      "provenance": [],
      "toc_visible": true,
      "machine_shape": "hm",
      "mount_file_id": "14JCQ4EmmeRT71TA8G-ZLlPOUUhE0eY2r",
      "authorship_tag": "ABX9TyPNJPFP4XMLioimPwERCrJh",
      "include_colab_link": true
    },
    "kernelspec": {
      "name": "python3",
      "display_name": "Python 3"
    },
    "language_info": {
      "name": "python"
    },
    "accelerator": "GPU"
  },
  "cells": [
    {
      "cell_type": "markdown",
      "metadata": {
        "id": "view-in-github",
        "colab_type": "text"
      },
      "source": [
        "<a href=\"https://colab.research.google.com/github/Mike030668/team-UII/blob/main/%D0%A2%D0%B5%D1%81%D1%82_%D0%B2_%D0%BA%D0%BE%D0%BC%D0%B0%D0%BD%D0%B4%D1%83_%D0%A3%D0%98%D0%98_%D0%BD%D0%B0_predict_%D0%90%D0%A1_%D1%84%D0%B8%D0%BD%D0%B0%D0%BB%D1%8C%D0%BD%D0%B0%D1%8F.ipynb\" target=\"_parent\"><img src=\"https://colab.research.google.com/assets/colab-badge.svg\" alt=\"Open In Colab\"/></a>"
      ]
    },
    {
      "cell_type": "code",
      "metadata": {
        "colab": {
          "base_uri": "https://localhost:8080/"
        },
        "id": "8ZK2aE85Yv_b",
        "outputId": "0ba1aa4b-2f75-4b0e-cf70-7ba2435cc1c1"
      },
      "source": [
        "pip install opencv-python"
      ],
      "execution_count": 1,
      "outputs": [
        {
          "output_type": "stream",
          "text": [
            "Requirement already satisfied: opencv-python in /usr/local/lib/python3.7/dist-packages (4.1.2.30)\n",
            "Requirement already satisfied: numpy>=1.14.5 in /usr/local/lib/python3.7/dist-packages (from opencv-python) (1.19.5)\n"
          ],
          "name": "stdout"
        }
      ]
    },
    {
      "cell_type": "code",
      "metadata": {
        "id": "ECyKhDl2tzqv"
      },
      "source": [
        "import numpy as np\n",
        "from PIL import Image, ImageDraw, ImageFont # Модули работы с изображениями\n",
        "import time\n",
        "from IPython.display import clear_output"
      ],
      "execution_count": 2,
      "outputs": []
    },
    {
      "cell_type": "markdown",
      "metadata": {
        "id": "QtMsrnJD3BZv"
      },
      "source": [
        "# Загрузка модели с HTML"
      ]
    },
    {
      "cell_type": "code",
      "metadata": {
        "colab": {
          "base_uri": "https://localhost:8080/"
        },
        "id": "48bMDLedplwT",
        "outputId": "16d8738f-e72a-4392-e5e6-333386a16144"
      },
      "source": [
        "import gdown\n",
        "from keras.models import load_model \n",
        "\n",
        "file_id = '1--zzp2MySvcwnMSQh2mAJFra49e07Pnd'\n",
        "gdown.download('https://drive.google.com/uc?id=' + file_id, 'model5.h5', quiet=False)\n",
        "\n",
        "train_model = load_model('/content/model5.h5')\n",
        "\n",
        "# загрузка модели"
      ],
      "execution_count": 23,
      "outputs": [
        {
          "output_type": "stream",
          "text": [
            "Downloading...\n",
            "From: https://drive.google.com/uc?id=1--zzp2MySvcwnMSQh2mAJFra49e07Pnd\n",
            "To: /content/model5.h5\n",
            "80.4MB [00:02, 38.2MB/s]\n"
          ],
          "name": "stderr"
        }
      ]
    },
    {
      "cell_type": "code",
      "metadata": {
        "colab": {
          "base_uri": "https://localhost:8080/"
        },
        "id": "HVhOl6KR17_C",
        "outputId": "24e0ab93-726f-4d92-cd63-25efac90a488"
      },
      "source": [
        "train_model.summary()"
      ],
      "execution_count": 24,
      "outputs": [
        {
          "output_type": "stream",
          "text": [
            "Model: \"model_2\"\n",
            "_________________________________________________________________\n",
            "Layer (type)                 Output Shape              Param #   \n",
            "=================================================================\n",
            "input_3 (InputLayer)         [(None, 128, 128, 3)]     0         \n",
            "_________________________________________________________________\n",
            "model (Functional)           [(None, 32, 32, 32), (Non 6603236   \n",
            "_________________________________________________________________\n",
            "model_1 (Functional)         (None, 128, 128, 3)       81859     \n",
            "=================================================================\n",
            "Total params: 6,685,095\n",
            "Trainable params: 6,684,455\n",
            "Non-trainable params: 640\n",
            "_________________________________________________________________\n"
          ],
          "name": "stdout"
        }
      ]
    },
    {
      "cell_type": "code",
      "metadata": {
        "colab": {
          "base_uri": "https://localhost:8080/",
          "height": 272
        },
        "id": "JcwxFd8h4m4T",
        "outputId": "a9436a08-92c3-4196-a196-2816808cbdf9"
      },
      "source": [
        "from tensorflow.keras.utils import plot_model #модуль отрисоки структуры нейронки\n",
        "plot_model(train_model)"
      ],
      "execution_count": 25,
      "outputs": [
        {
          "output_type": "execute_result",
          "data": {
            "image/png": "[encoded data removed]",
            "text/plain": [
              "<IPython.core.display.Image object>"
            ]
          },
          "metadata": {
            "tags": []
          },
          "execution_count": 25
        }
      ]
    },
    {
      "cell_type": "markdown",
      "metadata": {
        "id": "OyHfECBKfqPo"
      },
      "source": [
        "# MSE"
      ]
    },
    {
      "cell_type": "code",
      "metadata": {
        "id": "u9hygafMT59C"
      },
      "source": [
        "# создадим функцию среднеквадратичной ошибки\n",
        "def getMSEmasive(x1, x2): \n",
        "  return np.square(np.subtract(x1, x2)) # и возвращаем сумму квадратов разницы, делённую на длину разницы"
      ],
      "execution_count": 26,
      "outputs": []
    },
    {
      "cell_type": "markdown",
      "metadata": {
        "id": "CrHgtM2n1ND0"
      },
      "source": [
        "# Загрузка видео с HTML"
      ]
    },
    {
      "cell_type": "code",
      "metadata": {
        "colab": {
          "base_uri": "https://localhost:8080/",
          "height": 102
        },
        "id": "Un1oIh-p0lBh",
        "outputId": "1cdbb67c-5998-4e90-a9df-8f83e839c0f4"
      },
      "source": [
        "import gdown\n",
        "\n",
        "file_id = '1ETKBfNoXO8Kafr8Kn1tbzozb94ygRI41'\n",
        "gdown.download('https://drive.google.com/uc?id=' + file_id, 'test_video.mp4', quiet=False)\n"
      ],
      "execution_count": 8,
      "outputs": [
        {
          "output_type": "stream",
          "text": [
            "Downloading...\n",
            "From: https://drive.google.com/uc?id=1ETKBfNoXO8Kafr8Kn1tbzozb94ygRI41\n",
            "To: /content/test_video.mp4\n",
            "204MB [00:03, 55.2MB/s]\n"
          ],
          "name": "stderr"
        },
        {
          "output_type": "execute_result",
          "data": {
            "application/vnd.google.colaboratory.intrinsic+json": {
              "type": "string"
            },
            "text/plain": [
              "'test_video.mp4'"
            ]
          },
          "metadata": {
            "tags": []
          },
          "execution_count": 8
        }
      ]
    },
    {
      "cell_type": "markdown",
      "metadata": {
        "id": "KcS9uyumYlNZ"
      },
      "source": [
        "# Поиск, обрезание и склейка видео"
      ]
    },
    {
      "cell_type": "code",
      "metadata": {
        "id": "tZWaLzf5rSj6"
      },
      "source": [
        "import cv2 as cv2\n",
        "import os\n",
        "\n",
        "path = os.path.join(cv2.data.haarcascades, 'haarcascade_frontalface_default.xml')\n",
        "face_cascade = cv2.CascadeClassifier( path )"
      ],
      "execution_count": null,
      "outputs": []
    },
    {
      "cell_type": "markdown",
      "metadata": {
        "id": "tjGPfb3MFOjY"
      },
      "source": [
        "# Фунция дететирования кадра"
      ]
    },
    {
      "cell_type": "code",
      "metadata": {
        "id": "3FHO8Q8KFUtT"
      },
      "source": [
        "def detect_cadr(check_cadr,bias):\n",
        "      result = 0\n",
        "      gray = cv2.cvtColor(check_cadr, cv2.COLOR_BGR2GRAY)\n",
        "      faces = face_cascade.detectMultiScale(\n",
        "          gray,\n",
        "          scaleFactor= 1.1,\n",
        "          minNeighbors= 5,\n",
        "          minSize=(10, 10)\n",
        "      )\n",
        "\n",
        "      # Рисуем квадраты вокруг лиц\n",
        "      frame_faces = []\n",
        "      for i,(x, y, w, h) in enumerate(faces):\n",
        "          #print(i)\n",
        "          cv2.rectangle(faces, (x, y), (x+w, y+h), (255, 255, 0), 2)\n",
        "\n",
        "          face_np = image_base[y:y+h,x:x+w,:]\n",
        "\n",
        "          face_img = Image.fromarray(face_np) #cv2_imshow(face_np) # cv2.imwrite(face_np) #path_save)#\n",
        "          face_img = face_img.resize((128, 128)) \n",
        "          face_np = np.array(face_img)/255.\n",
        "          frame_faces.append(face_np)\n",
        "\n",
        "      frame_faces = np.array(frame_faces)\n",
        "      #print('frame_faces.shape[0]', frame_faces.shape[0])\n",
        "      if frame_faces.shape[0] != 0:\n",
        "          #print(frame_faces.shape[0])\n",
        "          pred_face = train_model.predict(frame_faces)\n",
        "          MSEs = getMSEmasive(frame_faces, pred_face)\n",
        "          errors = [MSEs[i].mean() for i in range(frame_faces.shape[0])] # посчитаем ошибку для всех изображений\n",
        "          #idx = np.random.choice(range(1200), frame_faces.shape[0])\n",
        "          #errors = []\n",
        "          #for i in range(frame_faces.shape[0]):\n",
        "          #   err = getMSEmasive(frame_faces[i], control_faces[idx])\n",
        "           #  errors.append(err)\n",
        "          #errors = np.array(errors)\n",
        "          #errors = [errors.mean() for i in range(frame_faces.shape[0])] # посчитаем ошибку для всех изображений\n",
        "          #print(\"Средняя ошибка на aliens_data:\", np.round(np.sum(errors) / len(errors), 4)) # посчитаем для последних 20 среднюю ошибку\n",
        "          print(\"Минимальная ошибка на pred_face:\", np.round(np.min(errors),4)) #найдем минимальную ошибку\n",
        "          if np.min(errors) < bias:           \n",
        "            print('MSE ', np.round(np.min(errors),4))\n",
        "            result = 1\n",
        "          else:\n",
        "            pass\n",
        "      else:\n",
        "        pass\n",
        "      \n",
        "      return result"
      ],
      "execution_count": 10,
      "outputs": []
    },
    {
      "cell_type": "markdown",
      "metadata": {
        "id": "t2lcdvw2fFwC"
      },
      "source": [
        "# Детектируем, вырезаем и собираем видео"
      ]
    },
    {
      "cell_type": "code",
      "metadata": {
        "colab": {
          "base_uri": "https://localhost:8080/"
        },
        "id": "sCiv4yyjeb0i",
        "outputId": "749ecd81-a760-4432-8024-a8f00231008f"
      },
      "source": [
        "path_test_video = '/content/test_video.mp4'\n",
        "\n",
        "cap = cv2.VideoCapture(path_test_video)\n",
        "fps_of_video = int(cv2.VideoCapture(path_test_video).get(cv2.CAP_PROP_FPS))\n",
        "\n",
        "step = 1 # \n",
        "step_frame = fps_of_video * step # сколько берем кадров в проверку\n",
        "bias = 0.006\n",
        "\n",
        "start = time.time()\n",
        "#num_frame = []\n",
        "np_cutfilm = []\n",
        "cadr = 0\n",
        "while(True):\n",
        "    # Capture frame-by-frame\n",
        "    ret, frame = cap.read()\n",
        "    image_base = frame\n",
        "    \n",
        "    if not ret:\n",
        "      break\n",
        "\n",
        "    if cadr % step_frame == 0:\n",
        "      clear_output()\n",
        "      print('cadr', cadr)\n",
        "           \n",
        "      #детектирование\n",
        "      result = detect_cadr(frame, bias)\n",
        "      add_cadr = step_frame\n",
        "    #собираем кадры детектированный и другие за ним до fps_of_video\n",
        "    print('result ', result)\n",
        "    if result != 0:       \n",
        "        print('add_cadr ', add_cadr)\n",
        "        if add_cadr > 0:           \n",
        "            np_cutfilm.append(image_base)\n",
        "            print('кадр добавлен')\n",
        "        add_cadr -= 1    \n",
        "        #num_frame.append(cadr)\n",
        "\n",
        "    cadr+=1\n",
        "    \n",
        "          \n",
        "    cv2.waitKey(1) & 0xFF\n",
        "\n",
        "clear_output()\n",
        "np_cutfilm = np.array(np_cutfilm)\n",
        "#num_frame = np.array(num_frame)\n",
        "# When everything done, release the capture\n",
        "cap.release()\n",
        "cv2.destroyAllWindows()\n",
        "print('оставлено кадров', np_cutfilm.shape)\n",
        "\n",
        "\n",
        "time_person = np_cutfilm.shape[0]/fps_of_video\n",
        "time_person = round(time_person/60,1)\n",
        "print('время Кевина на видео: ',time_person, ' минут')\n",
        "\n",
        "finish = time.time() - start\n",
        "print('время обработки', round(finish),' секунд')\n",
        "\n",
        "height, width = np_cutfilm.shape[1:3]\n",
        "\n",
        "# Определяем кодек и создаем объект VideoWriter\n",
        "fourcc = cv2.VideoWriter_fourcc('m', 'p', '4', 'v')\n",
        "out = cv2.VideoWriter()\n",
        "out_path = '/content/drive/MyDrive/Colab Bases/Команда УИИ/newconectframe_predict_'\n",
        "output_file_name = out_path + str(bias) + '.mp4' \n",
        "out.open(output_file_name, fourcc, fps_of_video , (width, height), True)\n",
        "\n",
        "for i in range(np_cutfilm.shape[0]):\n",
        "    out.write((np_cutfilm[i]))\n",
        "\n",
        "\n",
        "# Высвобождаем ресурсы\n",
        "cap.release()\n",
        "out.release()"
      ],
      "execution_count": 30,
      "outputs": [
        {
          "output_type": "stream",
          "text": [
            "оставлено кадров (2760, 408, 720, 3)\n",
            "время Кевина на видео:  2.0  минут\n",
            "время обработки 157  секунд\n"
          ],
          "name": "stdout"
        }
      ]
    }
  ]
}